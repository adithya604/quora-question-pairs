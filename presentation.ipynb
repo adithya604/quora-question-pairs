{
 "cells": [
  {
   "cell_type": "markdown",
   "metadata": {
    "collapsed": true
   },
   "source": [
    "# Przygotowane modele\n",
    "\n",
    "| id | log loss na Kaggle'u | opis | kto zrobił |\n",
    "| --- | --- | --- | --- |\n",
    "| 1  |  0.39 | syjamska sieć rekurencyjna z komórkami LSTM | Tomek |\n",
    "| 2  |  0.44| ?? | Piotrek  |\n",
    "| 3  |  0.43| ?? | Piotrek  |\n",
    "| 4  |  0.40| ?? | Piotrek  |\n",
    "| 5  |  0.45| ?? | Piotrek  |\n",
    "| 6 |  0.42| ?? | Piotrek  |\n",
    "| 7  |  0.74 | syjamski dwukierunkowy LSTM z ostatnią warstwą obliczającą normę l2 między reprezentacjami zdań | Tomek |\n",
    "| 8  |  ?? | syjamski podwójny drukierunkowy LSTM z uwagą| Tomek |\n",
    "| 9  |  ?? | średnia modeli 1 i 4 | Piotrek i Tomek |\n"
   ]
  },
  {
   "cell_type": "markdown",
   "metadata": {},
   "source": [
    "# Syjamska architektura sieci neuronowej\n",
    "\n",
    "Architektura syjamska to tradycyjne podejście do modeli porównujących dwa wejścia tego samego typu: warstwy wydobywające cechy obiektów na wejściu mają wspólne wagi."
   ]
  },
  {
   "cell_type": "code",
   "execution_count": null,
   "metadata": {},
   "outputs": [],
   "source": [
    ""
   ]
  }
 ],
 "metadata": {
  "kernelspec": {
   "display_name": "Python 2",
   "language": "python",
   "name": "python2"
  },
  "language_info": {
   "codemirror_mode": {
    "name": "ipython",
    "version": 2.0
   },
   "file_extension": ".py",
   "mimetype": "text/x-python",
   "name": "python",
   "nbconvert_exporter": "python",
   "pygments_lexer": "ipython2",
   "version": "2.7.6"
  }
 },
 "nbformat": 4,
 "nbformat_minor": 0
}