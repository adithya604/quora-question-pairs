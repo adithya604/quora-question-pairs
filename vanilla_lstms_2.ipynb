{
 "cells": [
  {
   "cell_type": "markdown",
   "metadata": {
    "collapsed": true
   },
   "source": [
    "# Vanilla LSTMS, 05052017\n",
    "\n",
    "val loss 0.49, "
   ]
  },
  {
   "cell_type": "code",
   "execution_count": 1,
   "metadata": {},
   "outputs": [
    {
     "name": "stderr",
     "output_type": "stream",
     "text": [
      "Using TensorFlow backend.\n"
     ]
    }
   ],
   "source": [
    "from datetime import datetime\n",
    "from IPython.display import SVG\n",
    "\n",
    "import pandas as pd\n",
    "import numpy as np\n",
    "\n",
    "from keras.models import Model\n",
    "from keras.layers import Dense, Dropout, Input, LSTM, Embedding\n",
    "from keras.layers.merge import concatenate\n",
    "from keras.callbacks import EarlyStopping, ModelCheckpoint, ProgbarLogger, TensorBoard\n",
    "from keras.layers.normalization import BatchNormalization\n",
    "from keras_tqdm import TQDMNotebookCallback\n",
    "\n",
    "from utils import load_embeddings, extract_questions_from_dataframe, save_submission\n",
    "\n",
    "%load_ext autoreload\n",
    "%autoreload 2\n",
    "pd.set_option('max_colwidth', 250)"
   ]
  },
  {
   "cell_type": "code",
   "execution_count": 2,
   "metadata": {
    "collapsed": true
   },
   "outputs": [],
   "source": [
    "class Config(object):\n",
    "    VOCABULARY_SIZE = 1193514\n",
    "    EMBEDDING_DIMENSION = 200\n",
    "    OFFSET = 3\n",
    "    OOV_TOKEN = 0  # out of vocabulary\n",
    "    EOS_TOKEN = 1  # end of sentence\n",
    "    PAD_TOKEN = 2  # padding to max sentence length\n",
    "    MAX_SENTENCE_LENGTH = 60\n",
    "    DENSE_LAYER_SIZE = 150\n",
    "    DROPOUT = 0.4\n",
    "    \n",
    "    def stamp(self, comment):\n",
    "        return '{date:%Y%m%d_%H%M}_{comment}'.format(\n",
    "            date=datetime.now(), comment=comment)"
   ]
  },
  {
   "cell_type": "code",
   "execution_count": 3,
   "metadata": {},
   "outputs": [
    {
     "name": "stdout",
     "output_type": "stream",
     "text": [
      "404290 preprocessed questions loaded from disk\n",
      "CPU times: user 1min 49s, sys: 4.38 s, total: 1min 53s\n",
      "Wall time: 1min 54s\n"
     ]
    }
   ],
   "source": [
    "%%time\n",
    "train_dataframe = pd.read_csv('train.csv')\n",
    "current_config = Config()\n",
    "\n",
    "embedding_weights, word2idx = load_embeddings(\n",
    "    'glove.twitter.27B.200d.txt',\n",
    "    config=current_config\n",
    ")\n",
    "\n",
    "questions_A, questions_B, labels = extract_questions_from_dataframe(\n",
    "    train_dataframe, \n",
    "    config=current_config,\n",
    "    word2idx=word2idx,\n",
    "    prediction_mode=False\n",
    ")"
   ]
  },
  {
   "cell_type": "code",
   "execution_count": 4,
   "metadata": {},
   "outputs": [
    {
     "data": {
      "text/plain": [
       "(404290, 60)"
      ]
     },
     "execution_count": 4,
     "metadata": {},
     "output_type": "execute_result"
    }
   ],
   "source": [
    "questions_A.shape"
   ]
  },
  {
   "cell_type": "code",
   "execution_count": 10,
   "metadata": {},
   "outputs": [
    {
     "name": "stdout",
     "output_type": "stream",
     "text": [
      "____________________________________________________________________________________________________\n",
      "Layer (type)                     Output Shape          Param #     Connected to                     \n",
      "====================================================================================================\n",
      "input_7 (InputLayer)             (None, 60)            0                                            \n",
      "____________________________________________________________________________________________________\n",
      "input_8 (InputLayer)             (None, 60)            0                                            \n",
      "____________________________________________________________________________________________________\n",
      "embedding_4 (Embedding)          (None, 60, 200)       238703400   input_7[0][0]                    \n",
      "                                                                   input_8[0][0]                    \n",
      "____________________________________________________________________________________________________\n",
      "lstm_4 (LSTM)                    (None, 100)           120400      embedding_4[0][0]                \n",
      "                                                                   embedding_4[1][0]                \n",
      "____________________________________________________________________________________________________\n",
      "concatenate_4 (Concatenate)      (None, 200)           0           lstm_4[0][0]                     \n",
      "                                                                   lstm_4[1][0]                     \n",
      "____________________________________________________________________________________________________\n",
      "dropout_3 (Dropout)              (None, 200)           0           concatenate_4[0][0]              \n",
      "____________________________________________________________________________________________________\n",
      "dense_3 (Dense)                  (None, 150)           30150       dropout_3[0][0]                  \n",
      "____________________________________________________________________________________________________\n",
      "dropout_4 (Dropout)              (None, 150)           0           dense_3[0][0]                    \n",
      "____________________________________________________________________________________________________\n",
      "batch_normalization_2 (BatchNorm (None, 150)           600         dropout_4[0][0]                  \n",
      "____________________________________________________________________________________________________\n",
      "dense_4 (Dense)                  (None, 1)             151         batch_normalization_2[0][0]      \n",
      "====================================================================================================\n",
      "Total params: 238,854,701\n",
      "Trainable params: 151,001\n",
      "Non-trainable params: 238,703,700\n",
      "____________________________________________________________________________________________________\n"
     ]
    }
   ],
   "source": [
    "shared_lstm_layer = LSTM(\n",
    "    units=100, \n",
    "    return_sequences=False, \n",
    "    go_backwards=True, \n",
    "    dropout=0.3\n",
    ")\n",
    "shared_embedding_layer = Embedding(\n",
    "    input_dim=current_config.VOCABULARY_SIZE + current_config.OFFSET, \n",
    "    output_dim=current_config.EMBEDDING_DIMENSION, \n",
    "    input_length=current_config.MAX_SENTENCE_LENGTH,\n",
    "    weights=[embedding_weights],\n",
    "    trainable=False\n",
    ")\n",
    "\n",
    "input_A = Input(shape=(current_config.MAX_SENTENCE_LENGTH,))\n",
    "embeddings_A = shared_embedding_layer(input_A)\n",
    "sentence_representation_A = shared_lstm_layer(embeddings_A)\n",
    "\n",
    "input_B = Input(shape=(current_config.MAX_SENTENCE_LENGTH,))\n",
    "embeddings_B = shared_embedding_layer(input_B)\n",
    "sentence_representation_B = shared_lstm_layer(embeddings_B)\n",
    "\n",
    "merged_model = concatenate([sentence_representation_A, sentence_representation_B])\n",
    "dropout_1 = Dropout(current_config.DROPOUT)(merged_model)\n",
    "dense_1 = Dense(current_config.DENSE_LAYER_SIZE)(dropout_1)\n",
    "dropout_2 = Dropout(current_config.DROPOUT)(dense_1)\n",
    "merged = BatchNormalization()(dropout_2)\n",
    "\n",
    "predictions = Dense(1, activation='sigmoid')(merged)\n",
    "\n",
    "model = Model(inputs=[input_A, input_B], outputs=predictions)\n",
    "model.compile(optimizer='rmsprop',\n",
    "              loss='binary_crossentropy',\n",
    "              metrics=['accuracy'])\n",
    "model.summary()"
   ]
  },
  {
   "cell_type": "code",
   "execution_count": 34,
   "metadata": {
    "collapsed": true
   },
   "outputs": [],
   "source": [
    "# Callbacks\n",
    "early_stopping = EarlyStopping(monitor='val_loss', patience=3)\n",
    "model_checkpoint = ModelCheckpoint(\n",
    "    monitor='val_loss',\n",
    "    filepath=current_config.stamp(comment='1') + '.h5', \n",
    "    save_best_only=True, \n",
    "    save_weights_only=True\n",
    ")\n",
    "tensorboard = TensorBoard()\n",
    "tqdm_bar = TQDMNotebookCallback()"
   ]
  },
  {
   "cell_type": "code",
   "execution_count": 37,
   "metadata": {},
   "outputs": [
    {
     "name": "stdout",
     "output_type": "stream",
     "text": [
      "Train on 323432 samples, validate on 80858 samples\n"
     ]
    },
    {
     "data": {},
     "metadata": {},
     "output_type": "display_data"
    },
    {
     "data": {},
     "metadata": {},
     "output_type": "display_data"
    },
    {
     "name": "stdout",
     "output_type": "stream",
     "text": [
      "Epoch 1/50\n",
      "323432/323432 [==============================] - 2200s - loss: 0.5667 - acc: 0.7126 - val_loss: 0.5481 - val_acc: 0.7245\n"
     ]
    },
    {
     "data": {},
     "metadata": {},
     "output_type": "display_data"
    },
    {
     "name": "stdout",
     "output_type": "stream",
     "text": [
      "Epoch 2/50\n",
      "323432/323432 [==============================] - 2164s - loss: 0.5468 - acc: 0.7233 - val_loss: 0.6208 - val_acc: 0.6988\n"
     ]
    },
    {
     "data": {},
     "metadata": {},
     "output_type": "display_data"
    },
    {
     "name": "stdout",
     "output_type": "stream",
     "text": [
      "Epoch 3/50\n",
      "323432/323432 [==============================] - 2032s - loss: 0.5384 - acc: 0.7301 - val_loss: 0.5293 - val_acc: 0.7380\n"
     ]
    },
    {
     "data": {},
     "metadata": {},
     "output_type": "display_data"
    },
    {
     "name": "stdout",
     "output_type": "stream",
     "text": [
      "Epoch 4/50\n",
      "323432/323432 [==============================] - 2111s - loss: 0.5325 - acc: 0.7339 - val_loss: 0.5241 - val_acc: 0.7436\n"
     ]
    },
    {
     "data": {},
     "metadata": {},
     "output_type": "display_data"
    },
    {
     "name": "stdout",
     "output_type": "stream",
     "text": [
      "Epoch 5/50\n",
      "323432/323432 [==============================] - 1967s - loss: 0.5273 - acc: 0.7378 - val_loss: 0.5935 - val_acc: 0.6773\n"
     ]
    },
    {
     "data": {},
     "metadata": {},
     "output_type": "display_data"
    },
    {
     "name": "stdout",
     "output_type": "stream",
     "text": [
      "Epoch 6/50\n",
      "323432/323432 [==============================] - 1786s - loss: 0.5224 - acc: 0.7418 - val_loss: 0.5630 - val_acc: 0.7316\n"
     ]
    },
    {
     "data": {},
     "metadata": {},
     "output_type": "display_data"
    },
    {
     "name": "stdout",
     "output_type": "stream",
     "text": [
      "Epoch 7/50\n",
      "323432/323432 [==============================] - 1785s - loss: 0.5175 - acc: 0.7446 - val_loss: 0.5131 - val_acc: 0.7497\n"
     ]
    },
    {
     "data": {},
     "metadata": {},
     "output_type": "display_data"
    },
    {
     "name": "stdout",
     "output_type": "stream",
     "text": [
      "Epoch 8/50\n",
      "323432/323432 [==============================] - 1784s - loss: 0.5143 - acc: 0.7472 - val_loss: 0.5142 - val_acc: 0.7492\n"
     ]
    },
    {
     "data": {},
     "metadata": {},
     "output_type": "display_data"
    },
    {
     "name": "stdout",
     "output_type": "stream",
     "text": [
      "Epoch 9/50\n",
      "323432/323432 [==============================] - 1783s - loss: 0.5104 - acc: 0.7489 - val_loss: 0.5538 - val_acc: 0.7133\n"
     ]
    },
    {
     "data": {},
     "metadata": {},
     "output_type": "display_data"
    },
    {
     "name": "stdout",
     "output_type": "stream",
     "text": [
      "Epoch 10/50\n",
      "323432/323432 [==============================] - 1785s - loss: 0.5070 - acc: 0.7520 - val_loss: 0.5059 - val_acc: 0.7546\n"
     ]
    },
    {
     "data": {},
     "metadata": {},
     "output_type": "display_data"
    },
    {
     "name": "stdout",
     "output_type": "stream",
     "text": [
      "Epoch 11/50\n",
      "323432/323432 [==============================] - 1782s - loss: 0.5037 - acc: 0.7541 - val_loss: 0.5219 - val_acc: 0.7517\n"
     ]
    },
    {
     "data": {},
     "metadata": {},
     "output_type": "display_data"
    },
    {
     "name": "stdout",
     "output_type": "stream",
     "text": [
      "Epoch 12/50\n",
      "323432/323432 [==============================] - 1785s - loss: 0.5005 - acc: 0.7564 - val_loss: 0.5052 - val_acc: 0.7584\n"
     ]
    },
    {
     "data": {},
     "metadata": {},
     "output_type": "display_data"
    },
    {
     "name": "stdout",
     "output_type": "stream",
     "text": [
      "Epoch 13/50\n",
      "323432/323432 [==============================] - 1783s - loss: 0.4972 - acc: 0.7588 - val_loss: 0.5477 - val_acc: 0.7310\n"
     ]
    },
    {
     "data": {},
     "metadata": {},
     "output_type": "display_data"
    },
    {
     "name": "stdout",
     "output_type": "stream",
     "text": [
      "Epoch 14/50\n",
      "323432/323432 [==============================] - 1784s - loss: 0.4947 - acc: 0.7599 - val_loss: 0.5305 - val_acc: 0.7287\n"
     ]
    },
    {
     "data": {},
     "metadata": {},
     "output_type": "display_data"
    },
    {
     "name": "stdout",
     "output_type": "stream",
     "text": [
      "Epoch 15/50\n",
      "323432/323432 [==============================] - 1783s - loss: 0.4920 - acc: 0.7618 - val_loss: 0.5031 - val_acc: 0.7548\n"
     ]
    },
    {
     "data": {},
     "metadata": {},
     "output_type": "display_data"
    },
    {
     "name": "stdout",
     "output_type": "stream",
     "text": [
      "Epoch 16/50\n",
      "323432/323432 [==============================] - 1783s - loss: 0.4898 - acc: 0.7632 - val_loss: 0.5050 - val_acc: 0.7531\n"
     ]
    },
    {
     "data": {},
     "metadata": {},
     "output_type": "display_data"
    },
    {
     "name": "stdout",
     "output_type": "stream",
     "text": [
      "Epoch 17/50\n",
      "323432/323432 [==============================] - 1784s - loss: 0.4877 - acc: 0.7650 - val_loss: 0.5027 - val_acc: 0.7573\n"
     ]
    },
    {
     "data": {},
     "metadata": {},
     "output_type": "display_data"
    },
    {
     "name": "stdout",
     "output_type": "stream",
     "text": [
      "Epoch 18/50\n",
      "323432/323432 [==============================] - 1783s - loss: 0.4850 - acc: 0.7658 - val_loss: 0.5074 - val_acc: 0.7530\n"
     ]
    },
    {
     "data": {},
     "metadata": {},
     "output_type": "display_data"
    },
    {
     "name": "stdout",
     "output_type": "stream",
     "text": [
      "Epoch 19/50\n",
      "323432/323432 [==============================] - 1783s - loss: 0.4822 - acc: 0.7679 - val_loss: 0.5272 - val_acc: 0.7301\n"
     ]
    },
    {
     "data": {},
     "metadata": {},
     "output_type": "display_data"
    },
    {
     "name": "stdout",
     "output_type": "stream",
     "text": [
      "Epoch 20/50\n",
      "323432/323432 [==============================] - 1785s - loss: 0.4803 - acc: 0.7696 - val_loss: 0.5214 - val_acc: 0.7432\n"
     ]
    },
    {
     "data": {},
     "metadata": {},
     "output_type": "display_data"
    },
    {
     "name": "stdout",
     "output_type": "stream",
     "text": [
      "Epoch 21/50\n",
      "323432/323432 [==============================] - 1786s - loss: 0.4787 - acc: 0.7701 - val_loss: 0.4922 - val_acc: 0.7654\n"
     ]
    },
    {
     "data": {},
     "metadata": {},
     "output_type": "display_data"
    },
    {
     "name": "stdout",
     "output_type": "stream",
     "text": [
      "Epoch 22/50\n",
      "323432/323432 [==============================] - 1784s - loss: 0.4762 - acc: 0.7713 - val_loss: 0.5884 - val_acc: 0.6831\n"
     ]
    },
    {
     "data": {},
     "metadata": {},
     "output_type": "display_data"
    },
    {
     "name": "stdout",
     "output_type": "stream",
     "text": [
      "Epoch 23/50\n",
      "323432/323432 [==============================] - 1998s - loss: 0.4744 - acc: 0.7722 - val_loss: 0.5006 - val_acc: 0.7617\n"
     ]
    },
    {
     "data": {},
     "metadata": {},
     "output_type": "display_data"
    },
    {
     "name": "stdout",
     "output_type": "stream",
     "text": [
      "Epoch 24/50\n",
      "323432/323432 [==============================] - 1929s - loss: 0.4731 - acc: 0.7736 - val_loss: 0.5062 - val_acc: 0.7614\n"
     ]
    },
    {
     "data": {},
     "metadata": {},
     "output_type": "display_data"
    },
    {
     "name": "stdout",
     "output_type": "stream",
     "text": [
      "Epoch 25/50\n",
      "323432/323432 [==============================] - 1797s - loss: 0.4709 - acc: 0.7749 - val_loss: 0.4924 - val_acc: 0.7669\n",
      "CPU times: user 1d 13h 38min 37s, sys: 8h 16min 22s, total: 1d 21h 54min 59s\n",
      "Wall time: 12h 55min 53s\n"
     ]
    }
   ],
   "source": [
    "%%time\n",
    "\n",
    "training_logs = model.fit(\n",
    "    x=[questions_A, questions_B], \n",
    "    y=labels, \n",
    "    epochs=50, \n",
    "    batch_size=1024,\n",
    "    validation_split=0.2, \n",
    "    callbacks=[early_stopping, model_checkpoint, tensorboard, tqdm_bar]\n",
    ")"
   ]
  },
  {
   "cell_type": "code",
   "execution_count": 38,
   "metadata": {},
   "outputs": [
    {
     "name": "stdout",
     "output_type": "stream",
     "text": [
      "20170430_2248_1.h5            extracted_questions_train.npz\r\n",
      "20170501_0126_1.csv           \u001b[31mglove.twitter.27B.100d.txt\u001b[m\u001b[m\r\n",
      "20170501_0326_1.h5            \u001b[31mglove.twitter.27B.200d.txt\u001b[m\u001b[m\r\n",
      "20170501_1742_1.csv           \u001b[31mglove.twitter.27B.25d.txt\u001b[m\u001b[m\r\n",
      "20170504_2334_1.h5            \u001b[31mglove.twitter.27B.50d.txt\u001b[m\u001b[m\r\n",
      "20170505_0156_1.csv           \u001b[1m\u001b[36mlogs\u001b[m\u001b[m\r\n",
      "20170505_0211_1.h5            \u001b[1m\u001b[36mlogs_2\u001b[m\u001b[m\r\n",
      "20170505_0304_1.h5            \u001b[1m\u001b[36mlogs_3\u001b[m\u001b[m\r\n",
      "20170505_1840_1.csv           sample_submission.csv\r\n",
      "20170507_2315_1.csv           script.py\r\n",
      "20170509_0055_1.h5            \u001b[1m\u001b[36mtensorflow\u001b[m\u001b[m\r\n",
      "20170509_2249_1.h5            \u001b[31mtest.csv\u001b[m\u001b[m\r\n",
      "20170509_2252_1.h5            \u001b[31mtrain.csv\u001b[m\u001b[m\r\n",
      "20170509_2253_1.h5            utils.py\r\n",
      "29042017_1.csv                vanilla_lstms_1.ipynb\r\n",
      "README.md                     vanilla_lstms_2.ipynb\r\n",
      "\u001b[1m\u001b[36m__pycache__\u001b[m\u001b[m                   wiki.en.vec\r\n"
     ]
    }
   ],
   "source": [
    "!ls"
   ]
  },
  {
   "cell_type": "code",
   "execution_count": 20,
   "metadata": {},
   "outputs": [
    {
     "data": {
      "text/plain": [
       "(404290, 60)"
      ]
     },
     "execution_count": 20,
     "metadata": {},
     "output_type": "execute_result"
    }
   ],
   "source": [
    "questions_B.shape"
   ]
  },
  {
   "cell_type": "code",
   "execution_count": 39,
   "metadata": {},
   "outputs": [
    {
     "data": {
      "text/plain": [
       "0.49221511489207603"
      ]
     },
     "execution_count": 39,
     "metadata": {},
     "output_type": "execute_result"
    }
   ],
   "source": [
    "model.load_weights('20170509_2253_1.h5')\n",
    "min(training_logs.history['val_loss'])"
   ]
  },
  {
   "cell_type": "code",
   "execution_count": 40,
   "metadata": {},
   "outputs": [
    {
     "name": "stdout",
     "output_type": "stream",
     "text": [
      "No saved file, preprocessing from scratch\n",
      "2345796 questions preprocessed\n"
     ]
    }
   ],
   "source": [
    "test_dataframe = pd.read_csv('test.csv')\n",
    "test_questions_A, test_questions_B, _ = extract_questions_from_dataframe(\n",
    "    test_dataframe,\n",
    "    config=current_config,\n",
    "    word2idx=word2idx,\n",
    "    prediction_mode=True\n",
    ")"
   ]
  },
  {
   "cell_type": "code",
   "execution_count": 41,
   "metadata": {},
   "outputs": [
    {
     "name": "stdout",
     "output_type": "stream",
     "text": [
      "2345796/2345796 [==============================] - 6118s  \n",
      "CPU times: user 4h 24min 57s, sys: 1h 7min 12s, total: 5h 32min 9s\n",
      "Wall time: 1h 41min 58s\n"
     ]
    }
   ],
   "source": [
    "%%time\n",
    "predictions = model.predict(\n",
    "    x=[test_questions_A, test_questions_B], \n",
    "    batch_size=8192, \n",
    "    verbose=1\n",
    ")"
   ]
  },
  {
   "cell_type": "code",
   "execution_count": 42,
   "metadata": {},
   "outputs": [
    {
     "data": {
      "text/html": [
       "<div>\n",
       "<table border=\"1\" class=\"dataframe\">\n",
       "  <thead>\n",
       "    <tr style=\"text-align: right;\">\n",
       "      <th></th>\n",
       "      <th>is_duplicate</th>\n",
       "    </tr>\n",
       "  </thead>\n",
       "  <tbody>\n",
       "    <tr>\n",
       "      <th>0</th>\n",
       "      <td>0.236641</td>\n",
       "    </tr>\n",
       "    <tr>\n",
       "      <th>1</th>\n",
       "      <td>0.299976</td>\n",
       "    </tr>\n",
       "    <tr>\n",
       "      <th>2</th>\n",
       "      <td>0.194677</td>\n",
       "    </tr>\n",
       "    <tr>\n",
       "      <th>3</th>\n",
       "      <td>0.176530</td>\n",
       "    </tr>\n",
       "    <tr>\n",
       "      <th>4</th>\n",
       "      <td>0.413835</td>\n",
       "    </tr>\n",
       "    <tr>\n",
       "      <th>5</th>\n",
       "      <td>0.319847</td>\n",
       "    </tr>\n",
       "    <tr>\n",
       "      <th>6</th>\n",
       "      <td>0.656540</td>\n",
       "    </tr>\n",
       "    <tr>\n",
       "      <th>7</th>\n",
       "      <td>0.741822</td>\n",
       "    </tr>\n",
       "    <tr>\n",
       "      <th>8</th>\n",
       "      <td>0.487091</td>\n",
       "    </tr>\n",
       "    <tr>\n",
       "      <th>9</th>\n",
       "      <td>0.129493</td>\n",
       "    </tr>\n",
       "    <tr>\n",
       "      <th>10</th>\n",
       "      <td>0.288013</td>\n",
       "    </tr>\n",
       "    <tr>\n",
       "      <th>11</th>\n",
       "      <td>0.193837</td>\n",
       "    </tr>\n",
       "    <tr>\n",
       "      <th>12</th>\n",
       "      <td>0.079172</td>\n",
       "    </tr>\n",
       "    <tr>\n",
       "      <th>13</th>\n",
       "      <td>0.274387</td>\n",
       "    </tr>\n",
       "    <tr>\n",
       "      <th>14</th>\n",
       "      <td>0.219927</td>\n",
       "    </tr>\n",
       "    <tr>\n",
       "      <th>15</th>\n",
       "      <td>0.357982</td>\n",
       "    </tr>\n",
       "    <tr>\n",
       "      <th>16</th>\n",
       "      <td>0.214739</td>\n",
       "    </tr>\n",
       "    <tr>\n",
       "      <th>17</th>\n",
       "      <td>0.070719</td>\n",
       "    </tr>\n",
       "    <tr>\n",
       "      <th>18</th>\n",
       "      <td>0.120233</td>\n",
       "    </tr>\n",
       "    <tr>\n",
       "      <th>19</th>\n",
       "      <td>0.434353</td>\n",
       "    </tr>\n",
       "    <tr>\n",
       "      <th>20</th>\n",
       "      <td>0.042188</td>\n",
       "    </tr>\n",
       "    <tr>\n",
       "      <th>21</th>\n",
       "      <td>0.059873</td>\n",
       "    </tr>\n",
       "    <tr>\n",
       "      <th>22</th>\n",
       "      <td>0.367534</td>\n",
       "    </tr>\n",
       "    <tr>\n",
       "      <th>23</th>\n",
       "      <td>0.707685</td>\n",
       "    </tr>\n",
       "    <tr>\n",
       "      <th>24</th>\n",
       "      <td>0.137583</td>\n",
       "    </tr>\n",
       "    <tr>\n",
       "      <th>25</th>\n",
       "      <td>0.530713</td>\n",
       "    </tr>\n",
       "    <tr>\n",
       "      <th>26</th>\n",
       "      <td>0.069613</td>\n",
       "    </tr>\n",
       "    <tr>\n",
       "      <th>27</th>\n",
       "      <td>0.165209</td>\n",
       "    </tr>\n",
       "    <tr>\n",
       "      <th>28</th>\n",
       "      <td>0.019770</td>\n",
       "    </tr>\n",
       "    <tr>\n",
       "      <th>29</th>\n",
       "      <td>0.035328</td>\n",
       "    </tr>\n",
       "    <tr>\n",
       "      <th>...</th>\n",
       "      <td>...</td>\n",
       "    </tr>\n",
       "    <tr>\n",
       "      <th>2345766</th>\n",
       "      <td>0.125516</td>\n",
       "    </tr>\n",
       "    <tr>\n",
       "      <th>2345767</th>\n",
       "      <td>0.102996</td>\n",
       "    </tr>\n",
       "    <tr>\n",
       "      <th>2345768</th>\n",
       "      <td>0.220743</td>\n",
       "    </tr>\n",
       "    <tr>\n",
       "      <th>2345769</th>\n",
       "      <td>0.138109</td>\n",
       "    </tr>\n",
       "    <tr>\n",
       "      <th>2345770</th>\n",
       "      <td>0.548680</td>\n",
       "    </tr>\n",
       "    <tr>\n",
       "      <th>2345771</th>\n",
       "      <td>0.238885</td>\n",
       "    </tr>\n",
       "    <tr>\n",
       "      <th>2345772</th>\n",
       "      <td>0.061704</td>\n",
       "    </tr>\n",
       "    <tr>\n",
       "      <th>2345773</th>\n",
       "      <td>0.258662</td>\n",
       "    </tr>\n",
       "    <tr>\n",
       "      <th>2345774</th>\n",
       "      <td>0.697981</td>\n",
       "    </tr>\n",
       "    <tr>\n",
       "      <th>2345775</th>\n",
       "      <td>0.330128</td>\n",
       "    </tr>\n",
       "    <tr>\n",
       "      <th>2345776</th>\n",
       "      <td>0.922270</td>\n",
       "    </tr>\n",
       "    <tr>\n",
       "      <th>2345777</th>\n",
       "      <td>0.313267</td>\n",
       "    </tr>\n",
       "    <tr>\n",
       "      <th>2345778</th>\n",
       "      <td>0.289783</td>\n",
       "    </tr>\n",
       "    <tr>\n",
       "      <th>2345779</th>\n",
       "      <td>0.047256</td>\n",
       "    </tr>\n",
       "    <tr>\n",
       "      <th>2345780</th>\n",
       "      <td>0.154649</td>\n",
       "    </tr>\n",
       "    <tr>\n",
       "      <th>2345781</th>\n",
       "      <td>0.412485</td>\n",
       "    </tr>\n",
       "    <tr>\n",
       "      <th>2345782</th>\n",
       "      <td>0.857719</td>\n",
       "    </tr>\n",
       "    <tr>\n",
       "      <th>2345783</th>\n",
       "      <td>0.009076</td>\n",
       "    </tr>\n",
       "    <tr>\n",
       "      <th>2345784</th>\n",
       "      <td>0.368036</td>\n",
       "    </tr>\n",
       "    <tr>\n",
       "      <th>2345785</th>\n",
       "      <td>0.201433</td>\n",
       "    </tr>\n",
       "    <tr>\n",
       "      <th>2345786</th>\n",
       "      <td>0.245428</td>\n",
       "    </tr>\n",
       "    <tr>\n",
       "      <th>2345787</th>\n",
       "      <td>0.316304</td>\n",
       "    </tr>\n",
       "    <tr>\n",
       "      <th>2345788</th>\n",
       "      <td>0.187253</td>\n",
       "    </tr>\n",
       "    <tr>\n",
       "      <th>2345789</th>\n",
       "      <td>0.027496</td>\n",
       "    </tr>\n",
       "    <tr>\n",
       "      <th>2345790</th>\n",
       "      <td>0.064514</td>\n",
       "    </tr>\n",
       "    <tr>\n",
       "      <th>2345791</th>\n",
       "      <td>0.099139</td>\n",
       "    </tr>\n",
       "    <tr>\n",
       "      <th>2345792</th>\n",
       "      <td>0.119407</td>\n",
       "    </tr>\n",
       "    <tr>\n",
       "      <th>2345793</th>\n",
       "      <td>0.076835</td>\n",
       "    </tr>\n",
       "    <tr>\n",
       "      <th>2345794</th>\n",
       "      <td>0.014845</td>\n",
       "    </tr>\n",
       "    <tr>\n",
       "      <th>2345795</th>\n",
       "      <td>0.507310</td>\n",
       "    </tr>\n",
       "  </tbody>\n",
       "</table>\n",
       "<p>2345796 rows × 1 columns</p>\n",
       "</div>"
      ],
      "text/plain": [
       "         is_duplicate\n",
       "0            0.236641\n",
       "1            0.299976\n",
       "2            0.194677\n",
       "3            0.176530\n",
       "4            0.413835\n",
       "5            0.319847\n",
       "6            0.656540\n",
       "7            0.741822\n",
       "8            0.487091\n",
       "9            0.129493\n",
       "10           0.288013\n",
       "11           0.193837\n",
       "12           0.079172\n",
       "13           0.274387\n",
       "14           0.219927\n",
       "15           0.357982\n",
       "16           0.214739\n",
       "17           0.070719\n",
       "18           0.120233\n",
       "19           0.434353\n",
       "20           0.042188\n",
       "21           0.059873\n",
       "22           0.367534\n",
       "23           0.707685\n",
       "24           0.137583\n",
       "25           0.530713\n",
       "26           0.069613\n",
       "27           0.165209\n",
       "28           0.019770\n",
       "29           0.035328\n",
       "...               ...\n",
       "2345766      0.125516\n",
       "2345767      0.102996\n",
       "2345768      0.220743\n",
       "2345769      0.138109\n",
       "2345770      0.548680\n",
       "2345771      0.238885\n",
       "2345772      0.061704\n",
       "2345773      0.258662\n",
       "2345774      0.697981\n",
       "2345775      0.330128\n",
       "2345776      0.922270\n",
       "2345777      0.313267\n",
       "2345778      0.289783\n",
       "2345779      0.047256\n",
       "2345780      0.154649\n",
       "2345781      0.412485\n",
       "2345782      0.857719\n",
       "2345783      0.009076\n",
       "2345784      0.368036\n",
       "2345785      0.201433\n",
       "2345786      0.245428\n",
       "2345787      0.316304\n",
       "2345788      0.187253\n",
       "2345789      0.027496\n",
       "2345790      0.064514\n",
       "2345791      0.099139\n",
       "2345792      0.119407\n",
       "2345793      0.076835\n",
       "2345794      0.014845\n",
       "2345795      0.507310\n",
       "\n",
       "[2345796 rows x 1 columns]"
      ]
     },
     "execution_count": 42,
     "metadata": {},
     "output_type": "execute_result"
    }
   ],
   "source": [
    "save_submission(predictions, current_config)"
   ]
  },
  {
   "cell_type": "code",
   "execution_count": null,
   "metadata": {
    "collapsed": true
   },
   "outputs": [],
   "source": [
    "!wc -l 20170505_0156_1.csv"
   ]
  },
  {
   "cell_type": "code",
   "execution_count": null,
   "metadata": {},
   "outputs": [],
   "source": [
    "predictions[:100]"
   ]
  },
  {
   "cell_type": "code",
   "execution_count": null,
   "metadata": {},
   "outputs": [],
   "source": [
    "test_dataframe"
   ]
  },
  {
   "cell_type": "code",
   "execution_count": null,
   "metadata": {
    "collapsed": true
   },
   "outputs": [],
   "source": [
    ""
   ]
  }
 ],
 "metadata": {
  "kernelspec": {
   "display_name": "Python 3",
   "language": "python",
   "name": "python3"
  },
  "language_info": {
   "codemirror_mode": {
    "name": "ipython",
    "version": 3.0
   },
   "file_extension": ".py",
   "mimetype": "text/x-python",
   "name": "python",
   "nbconvert_exporter": "python",
   "pygments_lexer": "ipython3",
   "version": "3.6.1"
  }
 },
 "nbformat": 4,
 "nbformat_minor": 0
}